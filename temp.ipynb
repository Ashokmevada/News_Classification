{
 "cells": [
  {
   "cell_type": "code",
   "execution_count": 1,
   "metadata": {},
   "outputs": [
    {
     "name": "stdout",
     "output_type": "stream",
     "text": [
      "WARNING:tensorflow:From c:\\Users\\91812\\anaconda3\\envs\\news\\lib\\site-packages\\keras\\src\\losses.py:2976: The name tf.losses.sparse_softmax_cross_entropy is deprecated. Please use tf.compat.v1.losses.sparse_softmax_cross_entropy instead.\n",
      "\n"
     ]
    }
   ],
   "source": [
    "import tensorflow as tf"
   ]
  },
  {
   "cell_type": "code",
   "execution_count": 2,
   "metadata": {},
   "outputs": [
    {
     "data": {
      "text/plain": [
       "'2.15.0'"
      ]
     },
     "execution_count": 2,
     "metadata": {},
     "output_type": "execute_result"
    }
   ],
   "source": [
    "tf.__version__"
   ]
  },
  {
   "cell_type": "code",
   "execution_count": 4,
   "metadata": {},
   "outputs": [],
   "source": [
    "import keras"
   ]
  },
  {
   "cell_type": "code",
   "execution_count": 5,
   "metadata": {},
   "outputs": [
    {
     "data": {
      "text/plain": [
       "'2.15.0'"
      ]
     },
     "execution_count": 5,
     "metadata": {},
     "output_type": "execute_result"
    }
   ],
   "source": [
    "keras.__version__"
   ]
  },
  {
   "cell_type": "code",
   "execution_count": 9,
   "metadata": {},
   "outputs": [
    {
     "name": "stderr",
     "output_type": "stream",
     "text": [
      "[nltk_data] Error loading stopwords: <urlopen error [WinError 10060] A\n",
      "[nltk_data]     connection attempt failed because the connected party\n",
      "[nltk_data]     did not properly respond after a period of time, or\n",
      "[nltk_data]     established connection failed because connected host\n",
      "[nltk_data]     has failed to respond>\n"
     ]
    },
    {
     "data": {
      "text/plain": [
       "False"
      ]
     },
     "execution_count": 9,
     "metadata": {},
     "output_type": "execute_result"
    }
   ],
   "source": [
    "import nltk\n",
    "nltk.download('stopwords')"
   ]
  },
  {
   "cell_type": "code",
   "execution_count": 8,
   "metadata": {},
   "outputs": [
    {
     "name": "stdout",
     "output_type": "stream",
     "text": [
      "Requirement already satisfied: nltk in c:\\users\\91812\\anaconda3\\envs\\news\\lib\\site-packages (3.8.1)\n",
      "Requirement already satisfied: click in c:\\users\\91812\\anaconda3\\envs\\news\\lib\\site-packages (from nltk) (8.1.7)\n",
      "Requirement already satisfied: joblib in c:\\users\\91812\\anaconda3\\envs\\news\\lib\\site-packages (from nltk) (1.3.2)\n",
      "Requirement already satisfied: regex>=2021.8.3 in c:\\users\\91812\\anaconda3\\envs\\news\\lib\\site-packages (from nltk) (2023.12.25)\n",
      "Requirement already satisfied: tqdm in c:\\users\\91812\\anaconda3\\envs\\news\\lib\\site-packages (from nltk) (4.66.1)\n",
      "Requirement already satisfied: colorama in c:\\users\\91812\\anaconda3\\envs\\news\\lib\\site-packages (from click->nltk) (0.4.6)\n"
     ]
    }
   ],
   "source": [
    "!pip install nltk"
   ]
  },
  {
   "cell_type": "code",
   "execution_count": 6,
   "metadata": {},
   "outputs": [
    {
     "name": "stdout",
     "output_type": "stream",
     "text": [
      "Obtaining file:///G:/DATASCIENCE/End_to_End_Project/News_Classification (from -r requirements.txt (line 18))\n",
      "  Preparing metadata (setup.py): started\n",
      "  Preparing metadata (setup.py): finished with status 'done'\n",
      "Requirement already satisfied: setuptools in c:\\users\\91812\\anaconda3\\envs\\news\\lib\\site-packages (from -r requirements.txt (line 1)) (68.2.2)\n",
      "Requirement already satisfied: pandas in c:\\users\\91812\\anaconda3\\envs\\news\\lib\\site-packages (from -r requirements.txt (line 2)) (2.1.4)\n",
      "Requirement already satisfied: numpy in c:\\users\\91812\\anaconda3\\envs\\news\\lib\\site-packages (from -r requirements.txt (line 3)) (1.26.2)\n",
      "Requirement already satisfied: nltk in c:\\users\\91812\\anaconda3\\envs\\news\\lib\\site-packages (from -r requirements.txt (line 4)) (3.8.1)\n",
      "Requirement already satisfied: keras in c:\\users\\91812\\anaconda3\\envs\\news\\lib\\site-packages (from -r requirements.txt (line 5)) (2.15.0)\n",
      "Requirement already satisfied: scikit-learn in c:\\users\\91812\\anaconda3\\envs\\news\\lib\\site-packages (from -r requirements.txt (line 6)) (1.3.2)\n",
      "Requirement already satisfied: gdown in c:\\users\\91812\\anaconda3\\envs\\news\\lib\\site-packages (from -r requirements.txt (line 7)) (4.7.1)\n",
      "Requirement already satisfied: matplotlib in c:\\users\\91812\\anaconda3\\envs\\news\\lib\\site-packages (from -r requirements.txt (line 8)) (3.8.2)\n",
      "Requirement already satisfied: ipykernel in c:\\users\\91812\\anaconda3\\envs\\news\\lib\\site-packages (from -r requirements.txt (line 9)) (6.28.0)\n",
      "Requirement already satisfied: spicy in c:\\users\\91812\\anaconda3\\envs\\news\\lib\\site-packages (from -r requirements.txt (line 10)) (0.16.0)\n",
      "Requirement already satisfied: flask-cors in c:\\users\\91812\\anaconda3\\envs\\news\\lib\\site-packages (from -r requirements.txt (line 12)) (4.0.0)\n",
      "Requirement already satisfied: flask in c:\\users\\91812\\anaconda3\\envs\\news\\lib\\site-packages (from -r requirements.txt (line 13)) (3.0.0)\n",
      "Requirement already satisfied: requests in c:\\users\\91812\\anaconda3\\envs\\news\\lib\\site-packages (from -r requirements.txt (line 14)) (2.31.0)\n",
      "Requirement already satisfied: tensorflow in c:\\users\\91812\\anaconda3\\envs\\news\\lib\\site-packages (from -r requirements.txt (line 15)) (2.15.0)\n",
      "Requirement already satisfied: from-root in c:\\users\\91812\\anaconda3\\envs\\news\\lib\\site-packages (from -r requirements.txt (line 16)) (1.3.0)\n",
      "Requirement already satisfied: Gunicorn in c:\\users\\91812\\anaconda3\\envs\\news\\lib\\site-packages (from -r requirements.txt (line 17)) (21.2.0)\n",
      "Requirement already satisfied: python-dateutil>=2.8.2 in c:\\users\\91812\\anaconda3\\envs\\news\\lib\\site-packages (from pandas->-r requirements.txt (line 2)) (2.8.2)\n",
      "Requirement already satisfied: pytz>=2020.1 in c:\\users\\91812\\anaconda3\\envs\\news\\lib\\site-packages (from pandas->-r requirements.txt (line 2)) (2023.3.post1)\n",
      "Requirement already satisfied: tzdata>=2022.1 in c:\\users\\91812\\anaconda3\\envs\\news\\lib\\site-packages (from pandas->-r requirements.txt (line 2)) (2023.3)\n",
      "Requirement already satisfied: click in c:\\users\\91812\\anaconda3\\envs\\news\\lib\\site-packages (from nltk->-r requirements.txt (line 4)) (8.1.7)\n",
      "Requirement already satisfied: joblib in c:\\users\\91812\\anaconda3\\envs\\news\\lib\\site-packages (from nltk->-r requirements.txt (line 4)) (1.3.2)\n",
      "Requirement already satisfied: regex>=2021.8.3 in c:\\users\\91812\\anaconda3\\envs\\news\\lib\\site-packages (from nltk->-r requirements.txt (line 4)) (2023.12.25)\n",
      "Requirement already satisfied: tqdm in c:\\users\\91812\\anaconda3\\envs\\news\\lib\\site-packages (from nltk->-r requirements.txt (line 4)) (4.66.1)\n",
      "Requirement already satisfied: scipy>=1.5.0 in c:\\users\\91812\\anaconda3\\envs\\news\\lib\\site-packages (from scikit-learn->-r requirements.txt (line 6)) (1.11.4)\n",
      "Requirement already satisfied: threadpoolctl>=2.0.0 in c:\\users\\91812\\anaconda3\\envs\\news\\lib\\site-packages (from scikit-learn->-r requirements.txt (line 6)) (3.2.0)\n",
      "Requirement already satisfied: filelock in c:\\users\\91812\\anaconda3\\envs\\news\\lib\\site-packages (from gdown->-r requirements.txt (line 7)) (3.13.1)\n",
      "Requirement already satisfied: six in c:\\users\\91812\\anaconda3\\envs\\news\\lib\\site-packages (from gdown->-r requirements.txt (line 7)) (1.16.0)\n",
      "Requirement already satisfied: beautifulsoup4 in c:\\users\\91812\\anaconda3\\envs\\news\\lib\\site-packages (from gdown->-r requirements.txt (line 7)) (4.12.2)\n",
      "Requirement already satisfied: contourpy>=1.0.1 in c:\\users\\91812\\anaconda3\\envs\\news\\lib\\site-packages (from matplotlib->-r requirements.txt (line 8)) (1.2.0)\n",
      "Requirement already satisfied: cycler>=0.10 in c:\\users\\91812\\anaconda3\\envs\\news\\lib\\site-packages (from matplotlib->-r requirements.txt (line 8)) (0.12.1)\n",
      "Requirement already satisfied: fonttools>=4.22.0 in c:\\users\\91812\\anaconda3\\envs\\news\\lib\\site-packages (from matplotlib->-r requirements.txt (line 8)) (4.47.0)\n",
      "Requirement already satisfied: kiwisolver>=1.3.1 in c:\\users\\91812\\anaconda3\\envs\\news\\lib\\site-packages (from matplotlib->-r requirements.txt (line 8)) (1.4.5)\n",
      "Requirement already satisfied: packaging>=20.0 in c:\\users\\91812\\anaconda3\\envs\\news\\lib\\site-packages (from matplotlib->-r requirements.txt (line 8)) (23.2)\n",
      "Requirement already satisfied: pillow>=8 in c:\\users\\91812\\anaconda3\\envs\\news\\lib\\site-packages (from matplotlib->-r requirements.txt (line 8)) (10.1.0)\n",
      "Requirement already satisfied: pyparsing>=2.3.1 in c:\\users\\91812\\anaconda3\\envs\\news\\lib\\site-packages (from matplotlib->-r requirements.txt (line 8)) (3.1.1)\n",
      "Requirement already satisfied: comm>=0.1.1 in c:\\users\\91812\\anaconda3\\envs\\news\\lib\\site-packages (from ipykernel->-r requirements.txt (line 9)) (0.2.0)\n",
      "Requirement already satisfied: debugpy>=1.6.5 in c:\\users\\91812\\anaconda3\\envs\\news\\lib\\site-packages (from ipykernel->-r requirements.txt (line 9)) (1.8.0)\n",
      "Requirement already satisfied: ipython>=7.23.1 in c:\\users\\91812\\anaconda3\\envs\\news\\lib\\site-packages (from ipykernel->-r requirements.txt (line 9)) (8.19.0)\n",
      "Requirement already satisfied: jupyter-client>=6.1.12 in c:\\users\\91812\\anaconda3\\envs\\news\\lib\\site-packages (from ipykernel->-r requirements.txt (line 9)) (8.6.0)\n",
      "Requirement already satisfied: jupyter-core!=5.0.*,>=4.12 in c:\\users\\91812\\anaconda3\\envs\\news\\lib\\site-packages (from ipykernel->-r requirements.txt (line 9)) (5.6.0)\n",
      "Requirement already satisfied: matplotlib-inline>=0.1 in c:\\users\\91812\\anaconda3\\envs\\news\\lib\\site-packages (from ipykernel->-r requirements.txt (line 9)) (0.1.6)\n",
      "Requirement already satisfied: nest-asyncio in c:\\users\\91812\\anaconda3\\envs\\news\\lib\\site-packages (from ipykernel->-r requirements.txt (line 9)) (1.5.8)\n",
      "Requirement already satisfied: psutil in c:\\users\\91812\\anaconda3\\envs\\news\\lib\\site-packages (from ipykernel->-r requirements.txt (line 9)) (5.9.7)\n",
      "Requirement already satisfied: pyzmq>=24 in c:\\users\\91812\\anaconda3\\envs\\news\\lib\\site-packages (from ipykernel->-r requirements.txt (line 9)) (25.1.2)\n",
      "Requirement already satisfied: tornado>=6.1 in c:\\users\\91812\\anaconda3\\envs\\news\\lib\\site-packages (from ipykernel->-r requirements.txt (line 9)) (6.4)\n",
      "Requirement already satisfied: traitlets>=5.4.0 in c:\\users\\91812\\anaconda3\\envs\\news\\lib\\site-packages (from ipykernel->-r requirements.txt (line 9)) (5.14.0)\n",
      "Requirement already satisfied: Werkzeug>=3.0.0 in c:\\users\\91812\\anaconda3\\envs\\news\\lib\\site-packages (from flask->-r requirements.txt (line 13)) (3.0.1)\n",
      "Requirement already satisfied: Jinja2>=3.1.2 in c:\\users\\91812\\anaconda3\\envs\\news\\lib\\site-packages (from flask->-r requirements.txt (line 13)) (3.1.2)\n",
      "Requirement already satisfied: itsdangerous>=2.1.2 in c:\\users\\91812\\anaconda3\\envs\\news\\lib\\site-packages (from flask->-r requirements.txt (line 13)) (2.1.2)\n",
      "Requirement already satisfied: blinker>=1.6.2 in c:\\users\\91812\\anaconda3\\envs\\news\\lib\\site-packages (from flask->-r requirements.txt (line 13)) (1.7.0)\n",
      "Requirement already satisfied: charset-normalizer<4,>=2 in c:\\users\\91812\\anaconda3\\envs\\news\\lib\\site-packages (from requests->-r requirements.txt (line 14)) (3.3.2)\n",
      "Requirement already satisfied: idna<4,>=2.5 in c:\\users\\91812\\anaconda3\\envs\\news\\lib\\site-packages (from requests->-r requirements.txt (line 14)) (3.6)\n",
      "Requirement already satisfied: urllib3<3,>=1.21.1 in c:\\users\\91812\\anaconda3\\envs\\news\\lib\\site-packages (from requests->-r requirements.txt (line 14)) (2.1.0)\n",
      "Requirement already satisfied: certifi>=2017.4.17 in c:\\users\\91812\\anaconda3\\envs\\news\\lib\\site-packages (from requests->-r requirements.txt (line 14)) (2023.11.17)\n",
      "Requirement already satisfied: tensorflow-intel==2.15.0 in c:\\users\\91812\\anaconda3\\envs\\news\\lib\\site-packages (from tensorflow->-r requirements.txt (line 15)) (2.15.0)\n",
      "Requirement already satisfied: absl-py>=1.0.0 in c:\\users\\91812\\anaconda3\\envs\\news\\lib\\site-packages (from tensorflow-intel==2.15.0->tensorflow->-r requirements.txt (line 15)) (2.0.0)\n",
      "Requirement already satisfied: astunparse>=1.6.0 in c:\\users\\91812\\anaconda3\\envs\\news\\lib\\site-packages (from tensorflow-intel==2.15.0->tensorflow->-r requirements.txt (line 15)) (1.6.3)\n",
      "Requirement already satisfied: flatbuffers>=23.5.26 in c:\\users\\91812\\anaconda3\\envs\\news\\lib\\site-packages (from tensorflow-intel==2.15.0->tensorflow->-r requirements.txt (line 15)) (23.5.26)\n",
      "Requirement already satisfied: gast!=0.5.0,!=0.5.1,!=0.5.2,>=0.2.1 in c:\\users\\91812\\anaconda3\\envs\\news\\lib\\site-packages (from tensorflow-intel==2.15.0->tensorflow->-r requirements.txt (line 15)) (0.5.4)\n",
      "Requirement already satisfied: google-pasta>=0.1.1 in c:\\users\\91812\\anaconda3\\envs\\news\\lib\\site-packages (from tensorflow-intel==2.15.0->tensorflow->-r requirements.txt (line 15)) (0.2.0)\n",
      "Requirement already satisfied: h5py>=2.9.0 in c:\\users\\91812\\anaconda3\\envs\\news\\lib\\site-packages (from tensorflow-intel==2.15.0->tensorflow->-r requirements.txt (line 15)) (3.10.0)\n",
      "Requirement already satisfied: libclang>=13.0.0 in c:\\users\\91812\\anaconda3\\envs\\news\\lib\\site-packages (from tensorflow-intel==2.15.0->tensorflow->-r requirements.txt (line 15)) (16.0.6)\n",
      "Requirement already satisfied: ml-dtypes~=0.2.0 in c:\\users\\91812\\anaconda3\\envs\\news\\lib\\site-packages (from tensorflow-intel==2.15.0->tensorflow->-r requirements.txt (line 15)) (0.2.0)\n",
      "Requirement already satisfied: opt-einsum>=2.3.2 in c:\\users\\91812\\anaconda3\\envs\\news\\lib\\site-packages (from tensorflow-intel==2.15.0->tensorflow->-r requirements.txt (line 15)) (3.3.0)\n",
      "Requirement already satisfied: protobuf!=4.21.0,!=4.21.1,!=4.21.2,!=4.21.3,!=4.21.4,!=4.21.5,<5.0.0dev,>=3.20.3 in c:\\users\\91812\\anaconda3\\envs\\news\\lib\\site-packages (from tensorflow-intel==2.15.0->tensorflow->-r requirements.txt (line 15)) (4.23.4)\n",
      "Requirement already satisfied: termcolor>=1.1.0 in c:\\users\\91812\\anaconda3\\envs\\news\\lib\\site-packages (from tensorflow-intel==2.15.0->tensorflow->-r requirements.txt (line 15)) (2.4.0)\n",
      "Requirement already satisfied: typing-extensions>=3.6.6 in c:\\users\\91812\\anaconda3\\envs\\news\\lib\\site-packages (from tensorflow-intel==2.15.0->tensorflow->-r requirements.txt (line 15)) (4.9.0)\n",
      "Requirement already satisfied: wrapt<1.15,>=1.11.0 in c:\\users\\91812\\anaconda3\\envs\\news\\lib\\site-packages (from tensorflow-intel==2.15.0->tensorflow->-r requirements.txt (line 15)) (1.14.1)\n",
      "Requirement already satisfied: tensorflow-io-gcs-filesystem>=0.23.1 in c:\\users\\91812\\anaconda3\\envs\\news\\lib\\site-packages (from tensorflow-intel==2.15.0->tensorflow->-r requirements.txt (line 15)) (0.31.0)\n",
      "Requirement already satisfied: grpcio<2.0,>=1.24.3 in c:\\users\\91812\\anaconda3\\envs\\news\\lib\\site-packages (from tensorflow-intel==2.15.0->tensorflow->-r requirements.txt (line 15)) (1.60.0)\n",
      "Requirement already satisfied: tensorboard<2.16,>=2.15 in c:\\users\\91812\\anaconda3\\envs\\news\\lib\\site-packages (from tensorflow-intel==2.15.0->tensorflow->-r requirements.txt (line 15)) (2.15.1)\n",
      "Requirement already satisfied: tensorflow-estimator<2.16,>=2.15.0 in c:\\users\\91812\\anaconda3\\envs\\news\\lib\\site-packages (from tensorflow-intel==2.15.0->tensorflow->-r requirements.txt (line 15)) (2.15.0)\n",
      "Requirement already satisfied: colorama in c:\\users\\91812\\anaconda3\\envs\\news\\lib\\site-packages (from click->nltk->-r requirements.txt (line 4)) (0.4.6)\n",
      "Requirement already satisfied: decorator in c:\\users\\91812\\anaconda3\\envs\\news\\lib\\site-packages (from ipython>=7.23.1->ipykernel->-r requirements.txt (line 9)) (5.1.1)\n",
      "Requirement already satisfied: jedi>=0.16 in c:\\users\\91812\\anaconda3\\envs\\news\\lib\\site-packages (from ipython>=7.23.1->ipykernel->-r requirements.txt (line 9)) (0.19.1)\n",
      "Requirement already satisfied: prompt-toolkit<3.1.0,>=3.0.41 in c:\\users\\91812\\anaconda3\\envs\\news\\lib\\site-packages (from ipython>=7.23.1->ipykernel->-r requirements.txt (line 9)) (3.0.43)\n",
      "Requirement already satisfied: pygments>=2.4.0 in c:\\users\\91812\\anaconda3\\envs\\news\\lib\\site-packages (from ipython>=7.23.1->ipykernel->-r requirements.txt (line 9)) (2.17.2)\n",
      "Requirement already satisfied: stack-data in c:\\users\\91812\\anaconda3\\envs\\news\\lib\\site-packages (from ipython>=7.23.1->ipykernel->-r requirements.txt (line 9)) (0.6.3)\n",
      "Requirement already satisfied: exceptiongroup in c:\\users\\91812\\anaconda3\\envs\\news\\lib\\site-packages (from ipython>=7.23.1->ipykernel->-r requirements.txt (line 9)) (1.2.0)\n",
      "Requirement already satisfied: MarkupSafe>=2.0 in c:\\users\\91812\\anaconda3\\envs\\news\\lib\\site-packages (from Jinja2>=3.1.2->flask->-r requirements.txt (line 13)) (2.1.3)\n",
      "Requirement already satisfied: platformdirs>=2.5 in c:\\users\\91812\\anaconda3\\envs\\news\\lib\\site-packages (from jupyter-core!=5.0.*,>=4.12->ipykernel->-r requirements.txt (line 9)) (4.1.0)\n",
      "Requirement already satisfied: pywin32>=300 in c:\\users\\91812\\anaconda3\\envs\\news\\lib\\site-packages (from jupyter-core!=5.0.*,>=4.12->ipykernel->-r requirements.txt (line 9)) (306)\n",
      "Requirement already satisfied: soupsieve>1.2 in c:\\users\\91812\\anaconda3\\envs\\news\\lib\\site-packages (from beautifulsoup4->gdown->-r requirements.txt (line 7)) (2.5)\n",
      "Requirement already satisfied: PySocks!=1.5.7,>=1.5.6 in c:\\users\\91812\\anaconda3\\envs\\news\\lib\\site-packages (from requests[socks]->gdown->-r requirements.txt (line 7)) (1.7.1)\n",
      "Requirement already satisfied: wheel<1.0,>=0.23.0 in c:\\users\\91812\\anaconda3\\envs\\news\\lib\\site-packages (from astunparse>=1.6.0->tensorflow-intel==2.15.0->tensorflow->-r requirements.txt (line 15)) (0.41.2)\n",
      "Requirement already satisfied: parso<0.9.0,>=0.8.3 in c:\\users\\91812\\anaconda3\\envs\\news\\lib\\site-packages (from jedi>=0.16->ipython>=7.23.1->ipykernel->-r requirements.txt (line 9)) (0.8.3)\n",
      "Requirement already satisfied: wcwidth in c:\\users\\91812\\anaconda3\\envs\\news\\lib\\site-packages (from prompt-toolkit<3.1.0,>=3.0.41->ipython>=7.23.1->ipykernel->-r requirements.txt (line 9)) (0.2.12)\n",
      "Requirement already satisfied: google-auth<3,>=1.6.3 in c:\\users\\91812\\anaconda3\\envs\\news\\lib\\site-packages (from tensorboard<2.16,>=2.15->tensorflow-intel==2.15.0->tensorflow->-r requirements.txt (line 15)) (2.25.2)\n",
      "Requirement already satisfied: google-auth-oauthlib<2,>=0.5 in c:\\users\\91812\\anaconda3\\envs\\news\\lib\\site-packages (from tensorboard<2.16,>=2.15->tensorflow-intel==2.15.0->tensorflow->-r requirements.txt (line 15)) (1.2.0)\n",
      "Requirement already satisfied: markdown>=2.6.8 in c:\\users\\91812\\anaconda3\\envs\\news\\lib\\site-packages (from tensorboard<2.16,>=2.15->tensorflow-intel==2.15.0->tensorflow->-r requirements.txt (line 15)) (3.5.1)\n",
      "Requirement already satisfied: tensorboard-data-server<0.8.0,>=0.7.0 in c:\\users\\91812\\anaconda3\\envs\\news\\lib\\site-packages (from tensorboard<2.16,>=2.15->tensorflow-intel==2.15.0->tensorflow->-r requirements.txt (line 15)) (0.7.2)\n",
      "Requirement already satisfied: executing>=1.2.0 in c:\\users\\91812\\anaconda3\\envs\\news\\lib\\site-packages (from stack-data->ipython>=7.23.1->ipykernel->-r requirements.txt (line 9)) (2.0.1)\n",
      "Requirement already satisfied: asttokens>=2.1.0 in c:\\users\\91812\\anaconda3\\envs\\news\\lib\\site-packages (from stack-data->ipython>=7.23.1->ipykernel->-r requirements.txt (line 9)) (2.4.1)\n",
      "Requirement already satisfied: pure-eval in c:\\users\\91812\\anaconda3\\envs\\news\\lib\\site-packages (from stack-data->ipython>=7.23.1->ipykernel->-r requirements.txt (line 9)) (0.2.2)\n",
      "Requirement already satisfied: cachetools<6.0,>=2.0.0 in c:\\users\\91812\\anaconda3\\envs\\news\\lib\\site-packages (from google-auth<3,>=1.6.3->tensorboard<2.16,>=2.15->tensorflow-intel==2.15.0->tensorflow->-r requirements.txt (line 15)) (5.3.2)\n",
      "Requirement already satisfied: pyasn1-modules>=0.2.1 in c:\\users\\91812\\anaconda3\\envs\\news\\lib\\site-packages (from google-auth<3,>=1.6.3->tensorboard<2.16,>=2.15->tensorflow-intel==2.15.0->tensorflow->-r requirements.txt (line 15)) (0.3.0)\n",
      "Requirement already satisfied: rsa<5,>=3.1.4 in c:\\users\\91812\\anaconda3\\envs\\news\\lib\\site-packages (from google-auth<3,>=1.6.3->tensorboard<2.16,>=2.15->tensorflow-intel==2.15.0->tensorflow->-r requirements.txt (line 15)) (4.9)\n",
      "Requirement already satisfied: requests-oauthlib>=0.7.0 in c:\\users\\91812\\anaconda3\\envs\\news\\lib\\site-packages (from google-auth-oauthlib<2,>=0.5->tensorboard<2.16,>=2.15->tensorflow-intel==2.15.0->tensorflow->-r requirements.txt (line 15)) (1.3.1)\n",
      "Requirement already satisfied: pyasn1<0.6.0,>=0.4.6 in c:\\users\\91812\\anaconda3\\envs\\news\\lib\\site-packages (from pyasn1-modules>=0.2.1->google-auth<3,>=1.6.3->tensorboard<2.16,>=2.15->tensorflow-intel==2.15.0->tensorflow->-r requirements.txt (line 15)) (0.5.1)\n",
      "Requirement already satisfied: oauthlib>=3.0.0 in c:\\users\\91812\\anaconda3\\envs\\news\\lib\\site-packages (from requests-oauthlib>=0.7.0->google-auth-oauthlib<2,>=0.5->tensorboard<2.16,>=2.15->tensorflow-intel==2.15.0->tensorflow->-r requirements.txt (line 15)) (3.2.2)\n",
      "Installing collected packages: News-Classification\n",
      "  Attempting uninstall: News-Classification\n",
      "    Found existing installation: News-Classification 0.0.0\n",
      "    Uninstalling News-Classification-0.0.0:\n",
      "      Successfully uninstalled News-Classification-0.0.0\n",
      "  Running setup.py develop for News-Classification\n",
      "Successfully installed News-Classification-0.0.0\n"
     ]
    }
   ],
   "source": [
    "!pip install -r requirements.txt"
   ]
  },
  {
   "cell_type": "code",
   "execution_count": 3,
   "metadata": {},
   "outputs": [
    {
     "name": "stdout",
     "output_type": "stream",
     "text": [
      "Requirement already satisfied: nltk in c:\\users\\91812\\anaconda3\\envs\\news\\lib\\site-packages (3.8.1)\n",
      "Requirement already satisfied: click in c:\\users\\91812\\anaconda3\\envs\\news\\lib\\site-packages (from nltk) (8.1.7)\n",
      "Requirement already satisfied: joblib in c:\\users\\91812\\anaconda3\\envs\\news\\lib\\site-packages (from nltk) (1.3.2)\n",
      "Requirement already satisfied: regex>=2021.8.3 in c:\\users\\91812\\anaconda3\\envs\\news\\lib\\site-packages (from nltk) (2023.12.25)\n",
      "Requirement already satisfied: tqdm in c:\\users\\91812\\anaconda3\\envs\\news\\lib\\site-packages (from nltk) (4.66.1)\n",
      "Requirement already satisfied: colorama in c:\\users\\91812\\anaconda3\\envs\\news\\lib\\site-packages (from click->nltk) (0.4.6)\n"
     ]
    }
   ],
   "source": [
    "!pip install --upgrade nltk"
   ]
  },
  {
   "cell_type": "code",
   "execution_count": 4,
   "metadata": {},
   "outputs": [
    {
     "name": "stdout",
     "output_type": "stream",
     "text": [
      "absl-py==2.0.0\n",
      "asttokens==2.4.1\n",
      "astunparse==1.6.3\n",
      "beautifulsoup4==4.12.2\n",
      "blinker==1.7.0\n",
      "cachetools==5.3.2\n",
      "certifi==2023.11.17\n",
      "charset-normalizer==3.3.2\n",
      "click==8.1.7\n",
      "colorama==0.4.6\n",
      "comm==0.2.0\n",
      "contourpy==1.2.0\n",
      "cycler==0.12.1\n",
      "debugpy==1.8.0\n",
      "decorator==5.1.1\n",
      "dm-tree==0.1.8\n",
      "exceptiongroup==1.2.0\n",
      "executing==2.0.1\n",
      "filelock==3.13.1\n",
      "Flask==3.0.0\n",
      "Flask-Cors==4.0.0\n",
      "flatbuffers==23.5.26\n",
      "fonttools==4.47.0\n",
      "from-root==1.3.0\n",
      "gast==0.5.4\n",
      "gdown==4.7.1\n",
      "google-auth==2.25.2\n",
      "google-auth-oauthlib==1.2.0\n",
      "google-pasta==0.2.0\n",
      "grpcio==1.60.0\n",
      "gunicorn==21.2.0\n",
      "h5py==3.10.0\n",
      "idna==3.6\n",
      "ipykernel==6.28.0\n",
      "ipython==8.19.0\n",
      "itsdangerous==2.1.2\n",
      "jedi==0.19.1\n",
      "Jinja2==3.1.2\n",
      "joblib==1.3.2\n",
      "jupyter_client==8.6.0\n",
      "jupyter_core==5.6.0\n",
      "keras==2.15.0\n",
      "kiwisolver==1.4.5\n",
      "libclang==16.0.6\n",
      "Markdown==3.5.1\n",
      "markdown-it-py==3.0.0\n",
      "MarkupSafe==2.1.3\n",
      "matplotlib==3.8.2\n",
      "matplotlib-inline==0.1.6\n",
      "mdurl==0.1.2\n",
      "ml-dtypes==0.2.0\n",
      "namex==0.0.7\n",
      "nest-asyncio==1.5.8\n",
      "-e git+https://github.com/Ashokmevada/News_Classification.git@d4e3e92739c7f5cfcab83fdaf1d9e0a399184a93#egg=News_Classification\n",
      "nltk==3.8.1\n",
      "numpy==1.26.2\n",
      "oauthlib==3.2.2\n",
      "opt-einsum==3.3.0\n",
      "packaging==23.2\n",
      "pandas==2.1.4\n",
      "parso==0.8.3\n",
      "Pillow==10.1.0\n",
      "platformdirs==4.1.0\n",
      "prompt-toolkit==3.0.43\n",
      "protobuf==4.23.4\n",
      "psutil==5.9.7\n",
      "pure-eval==0.2.2\n",
      "pyasn1==0.5.1\n",
      "pyasn1-modules==0.3.0\n",
      "Pygments==2.17.2\n",
      "pyparsing==3.1.1\n",
      "PySocks==1.7.1\n",
      "python-dateutil==2.8.2\n",
      "pytz==2023.3.post1\n",
      "pywin32==306\n",
      "pyzmq==25.1.2\n",
      "regex==2023.12.25\n",
      "requests==2.31.0\n",
      "requests-oauthlib==1.3.1\n",
      "rich==13.7.0\n",
      "rsa==4.9\n",
      "scikit-learn==1.3.2\n",
      "scipy==1.11.4\n",
      "six==1.16.0\n",
      "soupsieve==2.5\n",
      "spicy==0.16.0\n",
      "stack-data==0.6.3\n",
      "tensorboard==2.15.1\n",
      "tensorboard-data-server==0.7.2\n",
      "tensorflow==2.15.0\n",
      "tensorflow-estimator==2.15.0\n",
      "tensorflow-intel==2.15.0\n",
      "tensorflow-io-gcs-filesystem==0.31.0\n",
      "termcolor==2.4.0\n",
      "threadpoolctl==3.2.0\n",
      "tornado==6.4\n",
      "tqdm==4.66.1\n",
      "traitlets==5.14.0\n",
      "typing_extensions==4.9.0\n",
      "tzdata==2023.3\n",
      "urllib3==2.1.0\n",
      "wcwidth==0.2.12\n",
      "Werkzeug==3.0.1\n",
      "wrapt==1.14.1\n"
     ]
    }
   ],
   "source": [
    "!pip freeze"
   ]
  },
  {
   "cell_type": "code",
   "execution_count": null,
   "metadata": {},
   "outputs": [],
   "source": []
  }
 ],
 "metadata": {
  "kernelspec": {
   "display_name": "celebrity",
   "language": "python",
   "name": "python3"
  },
  "language_info": {
   "codemirror_mode": {
    "name": "ipython",
    "version": 3
   },
   "file_extension": ".py",
   "mimetype": "text/x-python",
   "name": "python",
   "nbconvert_exporter": "python",
   "pygments_lexer": "ipython3",
   "version": "3.10.0"
  }
 },
 "nbformat": 4,
 "nbformat_minor": 2
}
